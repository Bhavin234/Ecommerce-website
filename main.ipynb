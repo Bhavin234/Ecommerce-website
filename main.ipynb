{
 "cells": [
  {
   "cell_type": "markdown",
   "metadata": {},
   "source": [
    "<h1>Basic Definitions</h1>"
   ]
  },
  {
   "cell_type": "markdown",
   "metadata": {},
   "source": [
    "<h2>Importing Libraries</h2>"
   ]
  },
  {
   "cell_type": "code",
   "execution_count": null,
   "metadata": {},
   "outputs": [],
   "source": [
    "import sqlite3\n",
    "from datetime import datetime, timedelta\n",
    "import random\n",
    "from faker import Faker\n",
    "from tabulate import tabulate\n",
    "import time\n",
    "import os"
   ]
  },
  {
   "cell_type": "markdown",
   "metadata": {},
   "source": [
    "<h2>Database Connection</h2>"
   ]
  },
  {
   "cell_type": "code",
   "execution_count": null,
   "metadata": {},
   "outputs": [],
   "source": [
    "# Connect to SQLite database (or create if not exists)\n",
    "conn = sqlite3.connect('gareebshop.db')\n",
    "cur = conn.cursor()\n"
   ]
  },
  {
   "cell_type": "markdown",
   "metadata": {},
   "source": [
    "<h1>Products</h1>"
   ]
  },
  {
   "cell_type": "markdown",
   "metadata": {},
   "source": [
    "<h2>Product Database</h2>"
   ]
  },
  {
   "cell_type": "code",
   "execution_count": null,
   "metadata": {},
   "outputs": [],
   "source": [
    "import sqlite3\n",
    "\n",
    "# Database connection for the GareebShop website\n",
    "conn = sqlite3.connect('gareebshop.db')\n",
    "cursor = conn.cursor()\n",
    "\n",
    "product_data = [\n",
    "    (\"T-shirt\", \"Clothing\", 100),\n",
    "    (\"Jeans\", \"Clothing\", 50),\n",
    "    (\"Sneakers\", \"Footwear\", 80),\n",
    "    (\"Backpack\", \"Accessories\", 120),\n",
    "    (\"Watch\", \"Accessories\", 60),\n",
    "    (\"Phone Case\", \"Accessories\", 200),\n",
    "    (\"Headphones\", \"Electronics\", 70),\n",
    "    (\"Laptop\", \"Electronics\", 30),\n",
    "    (\"Smartwatch\", \"Electronics\", 40),\n",
    "    (\"Dress\", \"Clothing\", 70),\n",
    "    (\"Shorts\", \"Clothing\", 60),\n",
    "    (\"Boots\", \"Footwear\", 40),\n",
    "    (\"Sandals\", \"Footwear\", 90),\n",
    "    (\"Necklace\", \"Accessories\", 150),\n",
    "    (\"Sunglasses\", \"Accessories\", 80),\n",
    "    (\"Wallet\", \"Accessories\", 100),\n",
    "    (\"Speaker\", \"Electronics\", 50),\n",
    "    (\"Camera\", \"Electronics\", 20),\n",
    "    (\"Tablet\", \"Electronics\", 30),\n",
    "    # Add more products here with new genres\n",
    "]\n",
    "\n",
    "# Clear the existing table and recreate it\n",
    "cursor.execute(\"DROP TABLE IF EXISTS Products\")\n",
    "cursor.execute('''CREATE TABLE IF NOT EXISTS Products (\n",
    "                    ProductName VARCHAR(100),\n",
    "                    Genre VARCHAR(50),\n",
    "                    Stock INT\n",
    "                )''')\n",
    "\n",
    "# Insert new product data into the table\n",
    "for product_info in product_data:\n",
    "    cursor.execute('''\n",
    "        INSERT INTO Products (ProductName, Genre, Stock)\n",
    "        VALUES (?, ?, ?)\n",
    "    ''', product_info)\n",
    "\n",
    "conn.commit()\n",
    "\n",
    "print(\"Product data added successfully.\")\n"
   ]
  },
  {
   "cell_type": "markdown",
   "metadata": {},
   "source": [
    "<h1>Product Functions</h1>"
   ]
  },
  {
   "cell_type": "markdown",
   "metadata": {},
   "source": [
    "<h2>Create Table Products </h2>"
   ]
  },
  {
   "cell_type": "code",
   "execution_count": null,
   "metadata": {},
   "outputs": [],
   "source": [
    "cursor.execute('''\n",
    "                CREATE TABLE IF NOT EXISTS Products (\n",
    "                    ProductName VARCHAR(100),\n",
    "                    Genre VARCHAR(50),\n",
    "                    Stock INT,\n",
    "                    Price DECIMAL(10, 2)\n",
    "                )\n",
    "               ''')\n",
    "\n",
    "print(\"Products Table Created Successfully.\")\n"
   ]
  },
  {
   "cell_type": "markdown",
   "metadata": {},
   "source": [
    "<h2>Data Generation Functions For Products</h2>"
   ]
  },
  {
   "cell_type": "markdown",
   "metadata": {},
   "source": [
    "<h3>Random Stock Number Generator</h3>"
   ]
  },
  {
   "cell_type": "code",
   "execution_count": null,
   "metadata": {},
   "outputs": [],
   "source": [
    "import random\n",
    "\n",
    "# Function to generate random stock\n",
    "def generate_random_stock():\n",
    "    return random.randint(0, 100)\n"
   ]
  },
  {
   "cell_type": "markdown",
   "metadata": {},
   "source": [
    "<h3>Random Price Generator</h3>"
   ]
  },
  {
   "cell_type": "code",
   "execution_count": null,
   "metadata": {},
   "outputs": [],
   "source": [
    "import random\n",
    "\n",
    "# Function to generate random price\n",
    "def generate_random_price():\n",
    "    return round(random.uniform(10.0, 100.0), 2)\n"
   ]
  },
  {
   "cell_type": "markdown",
   "metadata": {},
   "source": [
    "<h2> Output Generation Functions For Products</h2>"
   ]
  },
  {
   "cell_type": "markdown",
   "metadata": {},
   "source": [
    "<h3>Parse Data for Output Table</h3>"
   ]
  },
  {
   "cell_type": "code",
   "execution_count": null,
   "metadata": {},
   "outputs": [],
   "source": [
    "def parse_product_data(data):\n",
    "    \"\"\"\n",
    "    Parse the product data into a list of dictionaries.\n",
    "    \"\"\"\n",
    "    product_list = []\n",
    "    for product_info in data:\n",
    "        product_dict = {\n",
    "            \"Product Name\": product_info[0],\n",
    "            \"Genre\": product_info[1],\n",
    "            \"Stock\": product_info[2],\n",
    "            \"Price\": '₹' + str(product_info[3])\n",
    "        }\n",
    "        product_list.append(product_dict)\n",
    "    return product_list\n"
   ]
  },
  {
   "cell_type": "markdown",
   "metadata": {},
   "source": [
    "<h3>Display Table</h3>"
   ]
  },
  {
   "cell_type": "code",
   "execution_count": null,
   "metadata": {},
   "outputs": [],
   "source": [
    "import tkinter as tk\n",
    "from tkinter import ttk\n",
    "\n",
    "def display_product_table(parent, product_data):\n",
    "    \"\"\"\n",
    "    Create and display the product table in the specified parent widget.\n",
    "    \"\"\"\n",
    "    # Create the treeview widget\n",
    "    for widget in parent.winfo_children():\n",
    "        widget.destroy()\n",
    "    global tree\n",
    "    tree = ttk.Treeview(parent)\n",
    "\n",
    "    # Define columns\n",
    "    columns = list(product_data[0].keys())\n",
    "    tree[\"columns\"] = tuple(columns)\n",
    "    tree.heading(\"#0\", text=\"\")\n",
    "    for column in columns:\n",
    "        tree.heading(column, text=column)\n",
    "\n",
    "    # Set column widths\n",
    "    column_widths = {\n",
    "        \"#0\": 0,\n",
    "        \"Product Name\": 150,\n",
    "        \"Genre\": 100,\n",
    "        \"Stock\": 70,\n",
    "        \"Price\": 70\n",
    "    }\n",
    "    for column, width in column_widths.items():\n",
    "        tree.column(column, width=width)\n",
    "\n",
    "    # Insert data rows\n",
    "    for i, product in enumerate(product_data, start=1):\n",
    "        tree.insert(\"\", \"end\", values=tuple(product.values()))\n",
    "\n",
    "    # Pack the treeview widget\n",
    "    tree.pack(fill=\"both\", expand=True)\n",
    "\n",
    "# Example usage:\n",
    "# display_product_table(parent, product_data)\n"
   ]
  },
  {
   "cell_type": "markdown",
   "metadata": {},
   "source": [
    "<h3>Buy Product</h3>"
   ]
  },
  {
   "cell_type": "code",
   "execution_count": null,
   "metadata": {},
   "outputs": [],
   "source": [
    "def buy_product():\n",
    "    selected_item = tree.selection()[0]\n",
    "    product_name = tree.item(selected_item, option=\"values\")[0]\n",
    "    print(\"Product Name:\", product_name)\n",
    "    cursor.execute('''\n",
    "        SELECT * FROM Products WHERE ProductName = ?\n",
    "        ''', (product_name,))\n",
    "    selected_product = cursor.fetchone()\n",
    "\n",
    "    for widget in search_output_frame.winfo_children():\n",
    "        widget.destroy()\n",
    "\n",
    "    # Create a text widget to display the product details\n",
    "    text_output = tk.Text(search_output_frame, width=2000, bg=\"#f2f2f2\", font=(\"Helvetica\", 12))\n",
    "    text_output.pack(fill=\"both\", expand=True)\n",
    "\n",
    "    # Output each attribute on a separate line\n",
    "    text_output.insert(tk.END, \"\\tProduct Name:\\t\\t\" + selected_product[0] + \"\\n\\n\")\n",
    "    text_output.insert(tk.END, \"\\tGenre:\\t\\t\" + selected_product[1] + \"\\n\\n\")\n",
    "    text_output.insert(tk.END, \"\\tStock:\\t\\t\" + str(selected_product[2]) + \"\\n\\n\")\n",
    "    text_output.insert(tk.END, \"\\tPrice:\\tRs. \" + str(selected_product[3]) + \"\\n\\n\")\n"
   ]
  },
  {
   "cell_type": "markdown",
   "metadata": {},
   "source": [
    "<h3>Output Sort</h3>"
   ]
  },
  {
   "cell_type": "code",
   "execution_count": null,
   "metadata": {},
   "outputs": [],
   "source": [
    "def map_sortby(sortby):\n",
    "    \"\"\"\n",
    "    Map and sort by the specified attribute.\n",
    "    \"\"\"\n",
    "    mapping = {\n",
    "        \"Stock\": \"Stock\",\n",
    "        \"Price\": \"Price\",\n",
    "        # Add more attributes as needed\n",
    "    }\n",
    "    # If the specified attribute is not found in the mapping, default to sorting by product name\n",
    "    return mapping.get(sortby, \"ProductName\")\n"
   ]
  },
  {
   "cell_type": "markdown",
   "metadata": {},
   "source": [
    "<h2>Random Product Generator</h2>"
   ]
  },
  {
   "cell_type": "code",
   "execution_count": null,
   "metadata": {},
   "outputs": [],
   "source": [
    "import random\n",
    "\n",
    "def generate_random_product():\n",
    "    \"\"\"\n",
    "    Generate random product data.\n",
    "    \"\"\"\n",
    "    # Define lists of sample product names, genres, and price ranges\n",
    "    product_names = [\"T-shirt\", \"Jeans\", \"Sneakers\", \"Backpack\", \"Watch\", \"Phone Case\", \"Headphones\", \"Laptop\", \"Smartwatch\"]\n",
    "    genres = [\"Clothing\", \"Footwear\", \"Accessories\", \"Electronics\"]\n",
    "    price_ranges = [(10, 50), (20, 100), (30, 150), (50, 200)]\n",
    "\n",
    "    # Choose random values from the lists\n",
    "    product_name = random.choice(product_names)\n",
    "    genre = random.choice(genres)\n",
    "    stock = random.randint(0, 100)\n",
    "    price_range = random.choice(price_ranges)\n",
    "    price = round(random.uniform(price_range[0], price_range[1]), 2)\n",
    "\n",
    "    return product_name, genre, stock, price\n",
    "\n",
    "# Example usage:\n",
    "# random_product = generate_random_product()\n",
    "# print(\"Random Product:\", random_product)\n"
   ]
  },
  {
   "cell_type": "markdown",
   "metadata": {},
   "source": [
    "<h3>Loading/Reloading and Parsing Data for Easy Readability</h3>"
   ]
  },
  {
   "cell_type": "code",
   "execution_count": null,
   "metadata": {},
   "outputs": [],
   "source": [
    "import os\n",
    "from tabulate import tabulate\n",
    "\n",
    "file_name = \"products_table.txt\"\n",
    "\n",
    "if os.path.exists(file_name) and os.path.getsize(file_name) > 0:\n",
    "    # Load the data from the file\n",
    "    with open(file_name, \"r\") as file:\n",
    "        loaded_table = file.read()\n",
    "    # Print the loaded table\n",
    "    print(loaded_table)\n",
    "else:\n",
    "    # Execute SELECT query to fetch all rows from the Products table\n",
    "    cursor.execute(\"SELECT * FROM Products\")\n",
    "    rows = cursor.fetchall()\n",
    "\n",
    "    # Tabulate the rows with headers\n",
    "    table = tabulate(rows, headers=[i[0] for i in cursor.description])\n",
    "\n",
    "    # Print the tabulated table\n",
    "    print(table)\n",
    "\n",
    "    # Save the tabulated data to a file\n",
    "    with open(file_name, \"w\") as file:\n",
    "        file.write(table)\n"
   ]
  },
  {
   "cell_type": "markdown",
   "metadata": {},
   "source": [
    "<h1>Customer</h1>"
   ]
  },
  {
   "cell_type": "markdown",
   "metadata": {},
   "source": [
    "<h2>Create Table Customer</h2>"
   ]
  },
  {
   "cell_type": "code",
   "execution_count": null,
   "metadata": {},
   "outputs": [],
   "source": [
    "cursor.execute('''\n",
    "                CREATE TABLE IF NOT EXISTS Customers (\n",
    "                    CustomerID INTEGER PRIMARY KEY AUTOINCREMENT,\n",
    "                    FirstName VARCHAR(50),\n",
    "                    LastName VARCHAR(50),\n",
    "                    Email VARCHAR(100),\n",
    "                    Phone VARCHAR(15)\n",
    "                )\n",
    "               ''')\n",
    "\n",
    "print(\"Customer Table Created Successfully.\")\n"
   ]
  },
  {
   "cell_type": "markdown",
   "metadata": {},
   "source": [
    "\n",
    "<h1>Tkinter Workflow</h1>"
   ]
  },
  {
   "cell_type": "markdown",
   "metadata": {},
   "source": [
    "<h2>Tkinter Functions</h2>"
   ]
  },
  {
   "cell_type": "markdown",
   "metadata": {},
   "source": [
    "<h3>HomeApp</h3>"
   ]
  },
  {
   "cell_type": "code",
   "execution_count": null,
   "metadata": {},
   "outputs": [],
   "source": [
    "def home_app():\n",
    "    # Placeholder function for home page\n",
    "    print(\"Home App...\")\n",
    "    # Hide other frames if visible\n",
    "    search_product_frame.pack_forget()\n",
    "    buying_management_frame.pack_forget()\n",
    "    online_billing_frame.pack_forget()\n",
    "    customer_support_frame.pack_forget()\n",
    "    # Show the home page frame\n",
    "    home_page_frame.pack(fill=\"both\", expand=True)\n"
   ]
  },
  {
   "cell_type": "markdown",
   "metadata": {},
   "source": [
    "<h3>SearchApp</h3>"
   ]
  },
  {
   "cell_type": "code",
   "execution_count": null,
   "metadata": {},
   "outputs": [],
   "source": [
    "def search_products():\n",
    "    # Placeholder function for searching products\n",
    "    print(\"Searching products...\")\n",
    "    \n",
    "    # Hide other frames if visible\n",
    "    home_page_frame.pack_forget()\n",
    "    buying_management_frame.pack_forget()\n",
    "    online_billing_frame.pack_forget()\n",
    "    customer_support_frame.pack_forget()\n",
    "    \n",
    "    # Show the search product frame\n",
    "    search_product_frame.pack(fill=\"both\", expand=True)\n",
    "\n",
    "    # Get search criteria\n",
    "    keyword = search_keyword_entry.get()\n",
    "    genre = search_genre_combobox.get()\n",
    "    sortby = map_sortby(search_sortby_combobox.get())\n",
    "\n",
    "    # Perform database query based on search criteria\n",
    "    query = '''\n",
    "    SELECT * FROM Products\n",
    "    WHERE ProductName LIKE ? AND Genre = ?\n",
    "    ORDER BY {};\n",
    "    '''.format(sortby)\n",
    "\n",
    "    cursor.execute(query, ('%' + keyword + '%', genre))\n",
    "\n",
    "    data = cursor.fetchall()\n",
    "    print(data)\n",
    "\n",
    "    # Parse and display search results\n",
    "    product_data = parse_product_data(data)\n",
    "    display_product_table(search_output_frame, product_data)\n"
   ]
  },
  {
   "cell_type": "markdown",
   "metadata": {},
   "source": [
    "<h3>Buying Management App</h3>"
   ]
  },
  {
   "cell_type": "code",
   "execution_count": null,
   "metadata": {},
   "outputs": [],
   "source": [
    "def buying_management():\n",
    "    # Placeholder function for buying management\n",
    "    print(\"Buying management...\")\n",
    "    \n",
    "    # Hide other frames if visible\n",
    "    home_page_frame.pack_forget()\n",
    "    search_product_frame.pack_forget()\n",
    "    online_billing_frame.pack_forget()\n",
    "    customer_support_frame.pack_forget()\n",
    "    \n",
    "    # Show the buying management frame\n",
    "    buying_management_frame.pack(fill=\"both\", expand=True)\n"
   ]
  },
  {
   "cell_type": "markdown",
   "metadata": {},
   "source": [
    "<h3>Customer Support App</h3>"
   ]
  },
  {
   "cell_type": "code",
   "execution_count": null,
   "metadata": {},
   "outputs": [],
   "source": [
    "def customer_support():\n",
    "    # Placeholder function for customer support\n",
    "    print(\"Customer support...\")\n",
    "    \n",
    "    # Hide other frames if visible\n",
    "    home_page_frame.pack_forget()\n",
    "    search_product_frame.pack_forget()\n",
    "    buying_management_frame.pack_forget()\n",
    "    online_billing_frame.pack_forget()\n",
    "    \n",
    "    # Show the customer support frame\n",
    "    customer_support_frame.pack(fill=\"both\", expand=True)\n",
    "\n"
   ]
  },
  {
   "cell_type": "markdown",
   "metadata": {},
   "source": [
    "<h3>Exit App</h3>"
   ]
  },
  {
   "cell_type": "code",
   "execution_count": null,
   "metadata": {},
   "outputs": [],
   "source": [
    "def exit_app():\n",
    "    # Close the main application window\n",
    "    root.destroy()\n"
   ]
  },
  {
   "cell_type": "markdown",
   "metadata": {},
   "source": [
    "<h3>Tkinter Window Launcher</h3>"
   ]
  },
  {
   "cell_type": "code",
   "execution_count": null,
   "metadata": {},
   "outputs": [],
   "source": [
    "# Import the required library\n",
    "import tkinter as tk\n",
    "\n",
    "# Create the tkinter window\n",
    "root = tk.Tk()\n",
    "\n",
    "# Set the window attributes to fullscreen\n",
    "root.attributes('-fullscreen', True)\n"
   ]
  },
  {
   "cell_type": "markdown",
   "metadata": {},
   "source": [
    "<h2>Tkinter Frames</h2>"
   ]
  },
  {
   "cell_type": "markdown",
   "metadata": {},
   "source": [
    "<h3>Navigation Frame</h3>"
   ]
  },
  {
   "cell_type": "code",
   "execution_count": null,
   "metadata": {},
   "outputs": [],
   "source": [
    "import os\n",
    "\n",
    "# Create the main application window\n",
    "root = tk.Tk()\n",
    "root.title(\"GareebShop\")\n",
    "root.attributes('-fullscreen', True)\n",
    "\n",
    "# Create a container to hold all the frames\n",
    "container = ttk.Frame(root)\n",
    "container.pack(fill=\"both\", expand=True)\n",
    "\n",
    "# Define the frames for different sections\n",
    "navigation_frame = ttk.Frame(container)\n",
    "home_page_frame = ttk.Frame(container)\n",
    "search_product_frame = ttk.Frame(container)\n",
    "buying_management_frame = ttk.Frame(container)\n",
    "online_billing_frame = ttk.Frame(container)\n",
    "customer_support_frame = ttk.Frame(container)\n",
    "\n",
    "# Pack all frames into the container\n",
    "navigation_frame.pack(side=\"top\", fill=\"x\")\n",
    "\n",
    "# Load and scale the logo\n",
    "logo_image = tk.PhotoImage(file=\"BhavinGareeb.png\").subsample(3)  # Scale by a factor of 3\n",
    "logo_button = ttk.Button(navigation_frame, image=logo_image, command=home_app, style=\"TButton\")\n",
    "logo_button.pack(side=\"left\", pady=10, padx=10)  # Anchor to top-left corner\n",
    "\n",
    "# Close button\n",
    "close_image = tk.PhotoImage(file=\"close_icon.jpg\").subsample(2)  # Scale by a factor of 2\n",
    "close_button = ttk.Button(navigation_frame, image=close_image, command=exit_app, style=\"TButton\")\n",
    "close_button.pack(side=\"right\", pady=10, padx=10)  # Anchor to top-right corner\n",
    "\n",
    "# Create frame for blue buttons\n",
    "blue_buttons_frame = ttk.Frame(navigation_frame)\n",
    "blue_buttons_frame.pack(side=\"top\", pady=50)\n",
    "\n",
    "# Button configurations\n",
    "button_config = {\n",
    "    \"style\": \"TButton\",\n",
    "    \"padding\": 10,\n",
    "}\n",
    "\n",
    "# Button text and commands\n",
    "button_texts = [\"Search Products\", \"Buying Management\", \"Online Billing\", \"Customer Support\"]\n",
    "button_commands = [search_products, buying_management, online_billing, customer_support]\n",
    "\n",
    "# Create and pack blue buttons\n",
    "for text, command in zip(button_texts, button_commands):\n",
    "    button = ttk.Button(blue_buttons_frame, text=text, command=command, **button_config)\n",
    "    button.pack(side=\"left\", padx=10)\n"
   ]
  },
  {
   "cell_type": "code",
   "execution_count": null,
   "metadata": {},
   "outputs": [],
   "source": []
  }
 ],
 "metadata": {
  "kernelspec": {
   "display_name": "base",
   "language": "python",
   "name": "python3"
  },
  "language_info": {
   "codemirror_mode": {
    "name": "ipython",
    "version": 3
   },
   "file_extension": ".py",
   "mimetype": "text/x-python",
   "name": "python",
   "nbconvert_exporter": "python",
   "pygments_lexer": "ipython3",
   "version": "3.11.5"
  }
 },
 "nbformat": 4,
 "nbformat_minor": 2
}
